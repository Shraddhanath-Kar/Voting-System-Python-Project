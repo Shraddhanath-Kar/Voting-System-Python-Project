{
  "nbformat": 4,
  "nbformat_minor": 0,
  "metadata": {
    "colab": {
      "provenance": []
    },
    "kernelspec": {
      "name": "python3",
      "display_name": "Python 3"
    },
    "language_info": {
      "name": "python"
    }
  },
  "cells": [
    {
      "cell_type": "markdown",
      "source": [
        "# **Python Voting System for 2024 Election Project**"
      ],
      "metadata": {
        "id": "QJ9fwyG0D_QX"
      }
    },
    {
      "cell_type": "code",
      "execution_count": null,
      "metadata": {
        "colab": {
          "base_uri": "https://localhost:8080/"
        },
        "id": "MsGg3VbgD8iV",
        "outputId": "ff77c4f8-6b46-4925-d71a-69a562f2bf02"
      },
      "outputs": [
        {
          "output_type": "stream",
          "name": "stdout",
          "text": [
            "Welcome to the voting system!\n",
            "Nominees:\n",
            "1.  Modi\n",
            "2.  Rahul\n",
            "\n",
            "Vote for a nominee (1 or 2) or enter '0' to end voting:\n",
            "1\n",
            "\n",
            "Vote for a nominee (1 or 2) or enter '0' to end voting:\n",
            "2\n",
            "\n",
            "Vote for a nominee (1 or 2) or enter '0' to end voting:\n",
            "2\n",
            "\n",
            "Vote for a nominee (1 or 2) or enter '0' to end voting:\n",
            "2\n",
            "\n",
            "Vote for a nominee (1 or 2) or enter '0' to end voting:\n",
            "1\n",
            "\n",
            "Vote for a nominee (1 or 2) or enter '0' to end voting:\n",
            "2\n",
            "\n",
            "Vote for a nominee (1 or 2) or enter '0' to end voting:\n",
            "2\n",
            "\n",
            "Vote for a nominee (1 or 2) or enter '0' to end voting:\n",
            "0\n",
            "\n",
            "Voting ended.\n",
            "\n",
            "Results: \n",
            "Modi : 2 votes\n",
            "Rahul : 5 votes\n",
            "Rahul wins!\n",
            "He has won with 50.0 % votes.\n"
          ]
        }
      ],
      "source": [
        "''' Here we take 2 nominees name.'''\n",
        "\n",
        "nominee_1 = \"Modi\"\n",
        "nominee_2 = \"Rahul\"\n",
        "\n",
        "nominee_1_vote = 0\n",
        "nominee_2_vote = 0\n",
        "\n",
        "number_of_voters = 10\n",
        "\n",
        "print(\"Welcome to the voting system!\")\n",
        "print(\"Nominees:\")\n",
        "print(\"1. \", nominee_1)\n",
        "print(\"2. \", nominee_2)\n",
        "\n",
        "\n",
        "while True:\n",
        "    print(\"\\nVote for a nominee (1 or 2) or enter '0' to end voting:\")\n",
        "    vote = input()\n",
        "    if vote == '0':\n",
        "        break\n",
        "    elif vote.isdigit():  # Check if the input is a digit\n",
        "        vote = int(vote)\n",
        "        if vote == 1:\n",
        "            nominee_1_vote += 1\n",
        "        elif vote == 2:\n",
        "            nominee_2_vote += 1\n",
        "        else:\n",
        "            print(\"Invalid choice! Please vote again.\")\n",
        "            continue\n",
        "    else:\n",
        "        print(\"Invalid input! Please enter a number.\")\n",
        "        continue\n",
        "\n",
        "print(\"\\nVoting ended.\")\n",
        "print(\"\\nResults: \")\n",
        "print(nominee_1, \":\", nominee_1_vote, \"votes\")\n",
        "print(nominee_2, \":\", nominee_2_vote, \"votes\")\n",
        "\n",
        "if nominee_1_vote > nominee_2_vote:\n",
        "  percent = (nominee_1_vote / number_of_voters) * 100\n",
        "  print(nominee_1, \"wins!\")\n",
        "  print(\"He\",\"has won\",\"with\",percent,\"% votes.\")\n",
        "elif nominee_2_vote > nominee_1_vote:\n",
        "  percent = (nominee_2_vote / number_of_voters) * 100\n",
        "  print(nominee_2,\"wins!\")\n",
        "  print(\"He\",\"has won\",\"with\",percent,\"% votes.\")\n",
        "else:\n",
        "  print(\"Its a tie!\")\n",
        "\n"
      ]
    }
  ]
}